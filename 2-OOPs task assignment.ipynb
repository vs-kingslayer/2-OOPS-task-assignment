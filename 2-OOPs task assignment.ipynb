{
 "cells": [
  {
   "cell_type": "markdown",
   "id": "f03079dd-d70c-4c8f-844f-4c9278d6661a",
   "metadata": {},
   "source": [
    " What is Abstraction in OOps? Explain with an example."
   ]
  },
  {
   "cell_type": "code",
   "execution_count": 1,
   "id": "0e94489e-5f9c-4613-ac63-298184749431",
   "metadata": {},
   "outputs": [],
   "source": [
    "import abc\n",
    "\n",
    "class pwskills:\n",
    "    \n",
    "    @abc.abstractmethod\n",
    "    def studentdetail(self):\n",
    "        pass\n",
    "    \n",
    "    @abc.abstractmethod\n",
    "    def stdentassignment(self):\n",
    "        pass"
   ]
  },
  {
   "cell_type": "code",
   "execution_count": 4,
   "id": "c90d73c0-5e5c-463f-a734-bc7ccafc73f6",
   "metadata": {},
   "outputs": [],
   "source": [
    "class datascience(pwskills):\n",
    "    \n",
    "    def  studentdetail(self):\n",
    "        print(\"hlo students\")\n",
    "        \n",
    "    def stdentassignment(self):\n",
    "        print(\"hlo students with assignment\")"
   ]
  },
  {
   "cell_type": "code",
   "execution_count": 5,
   "id": "022a8ed5-0488-464e-982c-5d2c61bde267",
   "metadata": {},
   "outputs": [],
   "source": [
    "vbs = datascience()"
   ]
  },
  {
   "cell_type": "code",
   "execution_count": 6,
   "id": "e58d76c2-ffc8-4dce-8608-5bb54040e8c8",
   "metadata": {},
   "outputs": [
    {
     "name": "stdout",
     "output_type": "stream",
     "text": [
      "hlo students\n"
     ]
    }
   ],
   "source": [
    "vbs.studentdetail()"
   ]
  },
  {
   "cell_type": "code",
   "execution_count": 7,
   "id": "f2815544-6c40-4b04-82f7-4db4505b7b36",
   "metadata": {},
   "outputs": [
    {
     "name": "stdout",
     "output_type": "stream",
     "text": [
      "hlo students with assignment\n"
     ]
    }
   ],
   "source": [
    "vbs.stdentassignment()"
   ]
  },
  {
   "cell_type": "markdown",
   "id": "40f0fe5f-b601-4c5f-9d83-bf5d6eb28074",
   "metadata": {},
   "source": [
    " Differentiate between Abstraction and Encapsulation. Explain with an example"
   ]
  },
  {
   "cell_type": "code",
   "execution_count": 8,
   "id": "695a2508-2100-4c79-8727-d71c4119c60b",
   "metadata": {},
   "outputs": [],
   "source": [
    "#abstraction:\n",
    "\n",
    "import abc\n",
    "\n",
    "class pwskills:\n",
    "    \n",
    "    @abc.abstractmethod\n",
    "    def studentdetail(self):\n",
    "        pass\n",
    "    \n",
    "    @abc.abstractmethod\n",
    "    def stdentassignment(self):\n",
    "        pass"
   ]
  },
  {
   "cell_type": "code",
   "execution_count": 9,
   "id": "4e9519cb-bc08-47fc-bc10-dd6710216c9a",
   "metadata": {},
   "outputs": [],
   "source": [
    "class datascience(pwskills):\n",
    "    \n",
    "    def  studentdetail(self):\n",
    "        print(\"hlo students\")\n",
    "        \n",
    "    def stdentassignment(self):\n",
    "        print(\"hlo students with assignment\")"
   ]
  },
  {
   "cell_type": "code",
   "execution_count": 10,
   "id": "5d990527-b9f3-45ee-b69d-3f93371fb7f6",
   "metadata": {},
   "outputs": [],
   "source": [
    "vbs = datascience()"
   ]
  },
  {
   "cell_type": "code",
   "execution_count": 11,
   "id": "e21eff0d-28cd-490e-8467-1b0f9fd8436c",
   "metadata": {},
   "outputs": [
    {
     "name": "stdout",
     "output_type": "stream",
     "text": [
      "hlo students with assignment\n"
     ]
    }
   ],
   "source": [
    "vbs.stdentassignment()"
   ]
  },
  {
   "cell_type": "code",
   "execution_count": 12,
   "id": "fe443192-f075-4036-9073-d401e752d3e9",
   "metadata": {},
   "outputs": [
    {
     "name": "stdout",
     "output_type": "stream",
     "text": [
      "hlo students\n"
     ]
    }
   ],
   "source": [
    "vbs.studentdetail()"
   ]
  },
  {
   "cell_type": "code",
   "execution_count": 15,
   "id": "35c012d7-2623-46d1-b78a-014b39005a54",
   "metadata": {},
   "outputs": [],
   "source": [
    "#encapsulation:\n",
    "\n",
    "class bankaccount:\n",
    "    \n",
    "    def __init__(self,balance):\n",
    "        self.balance=balance\n",
    "    \n",
    "    def deposit(self,amount):\n",
    "        self.balance=self.balance+amount\n",
    "    \n",
    "    def withdaw(self,amount):\n",
    "        if self.balance>=amount:\n",
    "            self.balance=self.balance-amount\n",
    "            return True\n",
    "        else:\n",
    "            return False\n",
    "    \n",
    "    def get_balancecheck(self):\n",
    "        return self.balance"
   ]
  },
  {
   "cell_type": "code",
   "execution_count": 17,
   "id": "27c4226b-fdca-412b-89ca-9b44d544a19f",
   "metadata": {},
   "outputs": [],
   "source": [
    "vaibhav = bankaccount(1000)"
   ]
  },
  {
   "cell_type": "code",
   "execution_count": 18,
   "id": "a410383d-ebe9-417b-a9bc-f0f603a8f119",
   "metadata": {},
   "outputs": [
    {
     "data": {
      "text/plain": [
       "<bound method bankaccount.get_balancecheck of <__main__.bankaccount object at 0x7f71184169e0>>"
      ]
     },
     "execution_count": 18,
     "metadata": {},
     "output_type": "execute_result"
    }
   ],
   "source": [
    "vaibhav.get_balancecheck"
   ]
  },
  {
   "cell_type": "code",
   "execution_count": 19,
   "id": "7a994e89-b690-477d-b2a0-8b52b62a51c3",
   "metadata": {},
   "outputs": [
    {
     "data": {
      "text/plain": [
       "1000"
      ]
     },
     "execution_count": 19,
     "metadata": {},
     "output_type": "execute_result"
    }
   ],
   "source": [
    "vaibhav.get_balancecheck()"
   ]
  },
  {
   "cell_type": "code",
   "execution_count": 20,
   "id": "8fdd2739-977b-4695-8356-38924ca66b83",
   "metadata": {},
   "outputs": [],
   "source": [
    "vaibhav.deposit(5000)"
   ]
  },
  {
   "cell_type": "code",
   "execution_count": 21,
   "id": "3be39848-dc01-4d0a-86aa-06adfe62194d",
   "metadata": {},
   "outputs": [
    {
     "data": {
      "text/plain": [
       "6000"
      ]
     },
     "execution_count": 21,
     "metadata": {},
     "output_type": "execute_result"
    }
   ],
   "source": [
    "vaibhav.get_balancecheck()"
   ]
  },
  {
   "cell_type": "code",
   "execution_count": 22,
   "id": "32165781-dcac-4d81-a3c0-94d193106e80",
   "metadata": {},
   "outputs": [
    {
     "data": {
      "text/plain": [
       "True"
      ]
     },
     "execution_count": 22,
     "metadata": {},
     "output_type": "execute_result"
    }
   ],
   "source": [
    "vaibhav.withdaw(500)"
   ]
  },
  {
   "cell_type": "code",
   "execution_count": 23,
   "id": "e38f8387-6346-4593-8656-da91acb4de6b",
   "metadata": {},
   "outputs": [
    {
     "data": {
      "text/plain": [
       "5500"
      ]
     },
     "execution_count": 23,
     "metadata": {},
     "output_type": "execute_result"
    }
   ],
   "source": [
    "vaibhav.get_balancecheck()"
   ]
  },
  {
   "cell_type": "markdown",
   "id": "2bf63b3c-12c1-4f6c-b755-6c0aa742e440",
   "metadata": {},
   "source": [
    " What is abc module in python? Why is it used?\n",
    "    \n",
    "    abc is the library function in python and it is used to create the data of abstract class or import "
   ]
  },
  {
   "cell_type": "markdown",
   "id": "1c65c9fa-518a-4497-a28f-6c5275222616",
   "metadata": {},
   "source": [
    ". How can we achieve data abstraction\n",
    "\n",
    "it can be achieved by abc library function "
   ]
  },
  {
   "cell_type": "markdown",
   "id": "2d8542de-773b-49fc-8b16-113536ab6014",
   "metadata": {},
   "source": [
    "Can we create an instance of an abstract class? Explain your answer\n",
    "\n",
    "Yes, you can create an instance of an abstract class in Python by subclassing it and implementing its abstract methods."
   ]
  },
  {
   "cell_type": "code",
   "execution_count": null,
   "id": "048add3f-5fda-43b3-a09b-4c23101d60cc",
   "metadata": {},
   "outputs": [],
   "source": []
  }
 ],
 "metadata": {
  "kernelspec": {
   "display_name": "Python 3 (ipykernel)",
   "language": "python",
   "name": "python3"
  },
  "language_info": {
   "codemirror_mode": {
    "name": "ipython",
    "version": 3
   },
   "file_extension": ".py",
   "mimetype": "text/x-python",
   "name": "python",
   "nbconvert_exporter": "python",
   "pygments_lexer": "ipython3",
   "version": "3.10.8"
  }
 },
 "nbformat": 4,
 "nbformat_minor": 5
}
